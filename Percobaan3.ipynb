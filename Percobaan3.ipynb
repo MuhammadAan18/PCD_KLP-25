{
 "cells": [
  {
   "cell_type": "markdown",
   "id": "7bea337c",
   "metadata": {},
   "source": [
    "<h1>IMPORT LIBRARY</h1>"
   ]
  },
  {
   "cell_type": "code",
   "execution_count": 37,
   "id": "f9e80af6",
   "metadata": {},
   "outputs": [],
   "source": [
    "import os\n",
    "import cv2\n",
    "import matplotlib.pyplot as plt\n",
    "import numpy as np\n",
    "import pandas as pd\n",
    "from sklearn.model_selection import train_test_split, cross_val_predict\n",
    "from sklearn.metrics import accuracy_score, classification_report\n",
    "from skimage.feature import graycomatrix, graycoprops\n",
    "from scipy.stats import entropy\n",
    "from sklearn.ensemble import RandomForestClassifier\n",
    "from sklearn.svm import SVC\n",
    "from sklearn.neighbors import KNeighborsClassifier\n",
    "from sklearn.metrics import accuracy_score, precision_score, recall_score, f1_score, confusion_matrix, classification_report\n",
    "from sklearn.metrics import (confusion_matrix, ConfusionMatrixDisplay)\n",
    "from sklearn.preprocessing import LabelEncoder\n",
    "import seaborn as sns"
   ]
  },
  {
   "cell_type": "markdown",
   "id": "ab756985",
   "metadata": {},
   "source": [
    "Kode di atas digunakan untuk mengimpor berbagai pustaka yang diperlukan untuk membaca data, mengekstrak fitur, membangun model klasifikasi, dan mengevaluasi kinerjanya. Pustaka os digunakan untuk menjelajahi direktori dan mengakses file citra retina, sementara cv2 (OpenCV) berperan dalam proses pembacaan dan pengolahan gambar. Untuk visualisasi data dan hasil klasifikasi, digunakan matplotlib.pyplot dan seaborn. Manipulasi data numerik serta data dalam bentuk tabel dilakukan dengan bantuan numpy dan pandas. Pembagian dataset menjadi data pelatihan dan pengujian dilakukan menggunakan fungsi train_test_split, sedangkan cross_val_predict digunakan untuk melakukan validasi silang dalam proses prediksi.Evaluasi performa model klasifikasi dilakukan dengan berbagai metrik seperti akurasi, presisi, recall, f1-score, dan confusion matrix, yang disediakan oleh modul sklearn.metrics. Untuk mengekstraksi fitur tekstur dari gambar, digunakan metode GLCM (Gray-Level Co-occurrence Matrix) melalui fungsi graycomatrix dan graycoprops dari pustaka skimage.feature, serta penghitungan entropi menggunakan fungsi entropy dari scipy.stats. Tiga algoritma klasifikasi yang diterapkan dalam kode ini adalah Random Forest, Support Vector Machine (SVM), dan K-Nearest Neighbors (KNN), yang semuanya berasal dari pustaka sklearn."
   ]
  },
  {
   "cell_type": "markdown",
   "id": "02fcb2d3",
   "metadata": {},
   "source": [
    "<h1>MEMBACA DATASET</h1>"
   ]
  },
  {
   "cell_type": "code",
   "execution_count": 38,
   "id": "d82ab5de",
   "metadata": {},
   "outputs": [],
   "source": [
    "data = []\n",
    "labels = []\n",
    "file_name = []\n",
    "\n",
    "# Loop melalui setiap subfolder (normal-cecum, polyps, ulcerative-colitis)\n",
    "for sub_folder in os.listdir(\"dataset/\"):\n",
    "    sub_folder_path = os.path.join(\"dataset/\", sub_folder)\n",
    "    \n",
    "    # Loop melalui setiap file gambar di subfolder\n",
    "    for filename in os.listdir(sub_folder_path):\n",
    "        img_path = os.path.join(sub_folder_path, filename)\n",
    "        img = cv2.imread(img_path) # Baca gambar\n",
    "        if img is None:  # Skip jika gambar corrupt\n",
    "            continue\n",
    "        img_gray = cv2.cvtColor(img, cv2.COLOR_BGR2GRAY)\n",
    "        img_resized = cv2.resize(img_gray, (512, 512)) #Resize gambar ke ukuran tetap agar bisa di-convert ke numpy array\n",
    "\n",
    "        # Simpan ke list\n",
    "        data.append(img_resized)\n",
    "        labels.append(sub_folder)\n",
    "        name = os.path.splitext(filename)[0]\n",
    "        file_name.append(filename)\n",
    "\n",
    "        \n",
    "data = np.array(data)\n",
    "labels = np.array(labels)"
   ]
  },
  {
   "cell_type": "markdown",
   "id": "fef3360c",
   "metadata": {},
   "source": [
    "Kode di atas digunakan untuk memuat dan memproses citra usus besar dari dataset yang tersusun dalam struktur direktori berdasarkan label kelas. Terdapat empat kategori label yang digunakan, yaitu normal, polyps dan ulcerative-colitis. Setiap kategori diwakili oleh sebuah subfolder di dalam direktori dataset\\, dan masing-masing berisi gambar retina yang termasuk dalam kategori tersebut. Program membaca gambar-gambar di dalamnya menggunakan OpenCV. Jika gambar berhasil dimuat, program mengubah warna citra menjadi grayscale agar lebih mudah untuk melakukan preprocessing. Gambar tersebut kemudian diubah ukurannya menjadi 512x512 piksel untuk menyamakan semua ukuran dataset sehingga lebih mudah untuk dianalisis."
   ]
  },
  {
   "cell_type": "markdown",
   "id": "35eb5110",
   "metadata": {},
   "source": [
    "<h1>PREPROCESSING</h1>"
   ]
  },
  {
   "cell_type": "code",
   "execution_count": 39,
   "id": "83805ca4",
   "metadata": {},
   "outputs": [],
   "source": [
    "def median(imageCitra):\n",
    "    sort_image = sorted(imageCitra.flatten())\n",
    "    \n",
    "    if(len(imageCitra.flatten()) % 2 == 0):\n",
    "        index_median1 = len(imageCitra.flatten())/2 - 1\n",
    "        index_median2 = len(imageCitra.flatten())/2 \n",
    "        \n",
    "        return (sort_image[index_median1] + sort_image[index_median2])/2\n",
    "    else:\n",
    "        index_median1 = len(imageCitra.flatten())//2\n",
    "        \n",
    "        return (sort_image[index_median1])\n",
    "    \n",
    "def filteringCitra(imageCitra, kernel_size, filter):\n",
    "    citra_height, citra_width = imageCitra.shape\n",
    "    pad = kernel_size // 2\n",
    "\n",
    "    padded_image = np.pad(imageCitra, pad_width=pad, mode='edge')\n",
    "\n",
    "    result = np.zeros((citra_height, citra_width))\n",
    "\n",
    "    for i in range(citra_height):\n",
    "        for j in range(citra_width):\n",
    "            region = padded_image[i:i+kernel_size, j:j+kernel_size]\n",
    "            if(filter == \"mean\"):\n",
    "                result[i][j] = np.sum(region)/(kernel_size*kernel_size)\n",
    "            elif(filter == \"modus\"):\n",
    "                result[i][j] = modus(region)\n",
    "            elif(filter == \"median\"):\n",
    "                result[i][j] = median(region)\n",
    "                \n",
    "    return result\n",
    "\n",
    "def convo(image, kernel):\n",
    "    img_height, img_width = image.shape\n",
    "    kernel_height, kernel_width = kernel.shape\n",
    "    pad_height = kernel_height //2\n",
    "    pad_width = kernel_width //2\n",
    "    padded_img =  np.pad(image, ((pad_height, pad_height), (pad_width, pad_width)), mode='edge')\n",
    "    result = np.zeros([img_height, img_width])\n",
    "\n",
    "    for i in range(img_height):\n",
    "        for j in range(img_width):\n",
    "            result[i, j] = np.sum(padded_img[i:i+kernel_height, j:j+kernel_width] * kernel)\n",
    "    return result\n",
    "\n",
    "\n",
    "sharpen_kernel = np.array([  [-1, -1, -1],\n",
    "                             [-1,  9, -1],\n",
    "                             [-1, -1, -1]])\n",
    "\n",
    "def thresholding(imageCitra, threshold, min_val, max_val):\n",
    "    imageCitra = imageCitra.astype(np.uint8)\n",
    "    result = np.where(imageCitra <= threshold, max_val, min_val).astype(np.uint8)\n",
    "    \n",
    "    return result\n",
    "\n",
    "def dilasi(gambar, kernel):\n",
    "    gambar = gambar // 255\n",
    "    padded = np.pad(gambar, ((kernel.shape[0]//2, kernel.shape[0]//2), (kernel.shape[1]//2, kernel.shape[1]//2)), mode='constant', constant_values=0)\n",
    "    result = np.zeros_like(gambar)\n",
    "    k_h, k_w = kernel.shape\n",
    "\n",
    "    for i in range(gambar.shape[0]):\n",
    "        for j in range(gambar.shape[1]):\n",
    "            neighborhood = padded[i:i+k_h, j:j+k_w]\n",
    "            if np.any(neighborhood[kernel==1] == 1):\n",
    "                result[i, j] = 1\n",
    "    return (result * 255).astype(np.uint8)\n",
    "\n",
    "def erosi(gambar, kernel):\n",
    "    gambar = gambar // 255\n",
    "    padded = np.pad(gambar, ((kernel.shape[0]//2, kernel.shape[0]//2), (kernel.shape[1]//2, kernel.shape[1]//2)), mode='constant', constant_values=0)\n",
    "    result = np.zeros_like(gambar)\n",
    "    k_h, k_w = kernel.shape\n",
    "\n",
    "    for i in range(gambar.shape[0]):\n",
    "        for j in range(gambar.shape[1]):\n",
    "            neighborhood = padded[i:i+k_h, j:j+k_w]\n",
    "            if np.all(neighborhood[kernel==1] == 1):\n",
    "                result[i, j] = 1\n",
    "    return (result * 255).astype(np.uint8)\n",
    "\n",
    "def opening(gambar, kernel):\n",
    "    eroded = erosi(gambar, kernel)\n",
    "    opened = dilasi(eroded, kernel)\n",
    "    return opened.astype(np.uint8)\n",
    "\n",
    "def closing(gambar, kernel):\n",
    "    dilated = dilasi(gambar, kernel)\n",
    "    closed = erosi(dilated, kernel)\n",
    "    return closed.astype(np.uint8)\n",
    "\n",
    "def masking(channel, mask_median):\n",
    "    objek = channel.copy()\n",
    "    objek[mask_median == 0] = 0 \n",
    "\n",
    "    return objek\n",
    "\n",
    "kernelElips5x5 = np.array([[0, 0, 1, 0, 0],\n",
    "                           [0, 1, 1, 1, 0],\n",
    "                           [1, 1, 1, 1, 1],\n",
    "                           [0, 1, 1, 1, 0],\n",
    "                           [0, 0, 1, 0, 0]], dtype=np.uint8)"
   ]
  },
  {
   "cell_type": "markdown",
   "id": "de2f87fe",
   "metadata": {},
   "source": [
    "Kode di atas terdiri dari beberapa fungsi yang digunakan untuk pengolahan citra grayscale dengan tujuan peningkatan kualitas citra, pengurangan noise, penajaman, serta operasi morfologi seperti dilasi, erosi, opening, dan closing. Kernel berbentuk elips 5x5 juga didefinisikan secara manual sebagai bagian dari operasi morfologi.\n",
    "1. median, Fungsi ini digunakan untuk menghitung nilai median dari sebuah array 2D (patch citra lokal) dalam bentuk datar (flattened). Nilai median merupakan nilai tengah setelah semua piksel disortir. Jika jumlah elemen genap, maka median diambil dari rata-rata dua nilai tengah. Fungsi ini berperan sebagai inti dari filter median.\n",
    "2. filteringCitra, Fungsi ini melakukan filtering citra menggunakan metode mean, median, atau modus sesuai parameter yang diberikan. Citra dipadding menggunakan mode 'edge' agar operasi dapat dilakukan hingga tepi. Untuk setiap piksel, jendela lokal sebesar kernel diambil, lalu dihitung nilai rata-rata (mean), median, atau modus sebagai nilai piksel baru. Fungsi ini berguna untuk reduksi noise serta mempertahankan struktur lokal citra, terutama saat menggunakan median.\n",
    "3. convo, Fungsi ini melakukan konvolusi 2D antara citra dan kernel (matriks filter). Citra dipadding di tepi untuk menjaga dimensi keluaran tetap sama dengan input. Setiap piksel output dihasilkan dari penjumlahan perkalian elemen-elemen jendela lokal citra dengan kernel. Fungsi ini digunakan untuk berbagai operasi linear seperti penajaman atau blur, tergantung kernel yang digunakan.\n",
    "4. thresholding, Fungsi ini menerapkan thresholding biner sederhana pada citra. Piksel dengan nilai kurang dari atau sama dengan threshold akan diatur ke max_val, sedangkan sisanya menjadi min_val. Biasanya digunakan untuk segmentasi objek dalam citra grayscale.\n",
    "5. dilasi, Fungsi ini melakukan operasi dilasi biner. Citra input dinormalisasi ke biner (0 dan 1), lalu dipadding untuk menjaga ukuran. Untuk setiap piksel, jika ada setidaknya satu piksel dalam jendela kernel yang bernilai 1, maka hasilnya menjadi 1. Dilasi memperbesar area objek putih dan mengisi celah kecil pada objek.\n",
    "6. erosi, Fungsi ini menjalankan operasi erosi biner. Berlawanan dengan dilasi, piksel hasil akan bernilai 1 hanya jika semua piksel dalam jendela kernel yang sesuai juga bernilai 1. Erosi berfungsi untuk mengecilkan objek dan menghilangkan noise kecil.\n",
    "7. opening, Fungsi ini menggabungkan erosi diikuti dilasi, dikenal sebagai opening. Opening berguna untuk menghapus noise kecil sambil mempertahankan bentuk utama objek.\n",
    "8. closing, Fungsi ini menjalankan dilasi lalu erosi, disebut sebagai closing. Closing digunakan untuk menutup lubang kecil dalam objek dan menyambungkan bagian objek yang terpisah.\n",
    "9. masking, Fungsi ini melakukan masking terhadap suatu channel (lapisan citra) menggunakan citra biner mask_median. Piksel pada channel yang posisinya nol di mask_median akan diset menjadi nol. Fungsi ini bermanfaat untuk menyaring atau mengekstrak area tertentu dari citra."
   ]
  },
  {
   "cell_type": "markdown",
   "id": "0eef4701",
   "metadata": {},
   "source": [
    "<h1>FUNGSI PREPROCESSING</h1>"
   ]
  },
  {
   "cell_type": "code",
   "execution_count": 40,
   "id": "a2710c83",
   "metadata": {},
   "outputs": [],
   "source": [
    "def preprocess_3(img):\n",
    "    img_median = filteringCitra(img, kernel_size=3, filter=\"median\") \n",
    "    img_sharp = convo(img_median, sharpen_kernel)\n",
    "    img_tresh = thresholding(img_sharp, 120, 255, 0)\n",
    "    opened = opening(img_tresh, kernelElips5x5)\n",
    "    closed = closing(opened, kernelElips5x5)\n",
    "    erosed = erosi(closed, kernelElips5x5)\n",
    "    masked = masking(img_median, erosed)\n",
    "    return masked.astype(np.uint8)"
   ]
  },
  {
   "cell_type": "markdown",
   "id": "73e5dada",
   "metadata": {},
   "source": [
    "Kode diatas merupakan rangkaian preprocessing citra grayscale yang dirancang untuk meningkatkan kualitas citra dan mengekstrak objek utama dari latar belakang. Langkah-langkahnya mencakup filtering, penajaman, segmentasi, dan morfologi, serta masking. Fungsi ini menghasilkan citra yang hanya menyisakan area objek penting, berdasarkan hasil segmentasi dan morfologi."
   ]
  },
  {
   "cell_type": "markdown",
   "id": "383281e4",
   "metadata": {},
   "source": [
    "<h1>DATA PREPROCESSING</h1>"
   ]
  },
  {
   "cell_type": "code",
   "execution_count": null,
   "id": "8756ff77",
   "metadata": {},
   "outputs": [],
   "source": [
    "dataPreprocessed3 = [preprocess_3(img) for img in data] \n",
    "unique_labels = sorted(set(labels))\n",
    "\n",
    "for label in unique_labels:\n",
    "    # Ambil semua indeks gambar dari label ini\n",
    "    idxs = [j for j, l in enumerate(labels) if l == label]\n",
    "\t\n",
    "    # Buat grid 2x5 (cukup untuk 10 gambar, 2*5 = 10)\n",
    "    fig, axs = plt.subplots(2, 5, figsize=(15, 6))\n",
    "    fig.suptitle(f'Label: {label}', fontsize=30)\n",
    "    \n",
    "    for k in range(min(10, len(idxs))):\n",
    "        row = k // 5\n",
    "        col = k % 5\n",
    "        ax = axs[row][col]\n",
    "        ax.imshow(dataPreprocessed3[idxs[k]], cmap='gray')\n",
    "        ax.axis('off')\n",
    "\n",
    "    plt.tight_layout()\n",
    "    plt.subplots_adjust(top=0.92)\n",
    "    plt.show()"
   ]
  },
  {
   "cell_type": "markdown",
   "id": "daa7c044",
   "metadata": {},
   "source": [
    "Kode di atas digunakan untuk melakukan preprocessing seluruh citra dalam dataset. Selanjutnya, kode mengelompokkan gambar berdasarkan label yang unik, dan untuk setiap label, ditampilkan maksimal 10 gambar hasil preprocessing dalam bentuk grid 2x5 menggunakan matplotlib. Proses ini bertujuan untuk memvisualisasikan dan memverifikasi hasil preprocessing, apakah citra yang dihasilkan sudah cukup bersih, tajam, dan fokus pada objek penting sesuai dengan labelnya."
   ]
  },
  {
   "cell_type": "markdown",
   "id": "aa811e85",
   "metadata": {},
   "source": [
    "<h1>EKSTRAKSI FITUR</h1>"
   ]
  },
  {
   "cell_type": "code",
   "execution_count": null,
   "id": "864e7731",
   "metadata": {},
   "outputs": [],
   "source": [
    "def glcm(image, derajat):\n",
    "    if derajat == 0:\n",
    "        angles = [0]\n",
    "    elif derajat == 45:\n",
    "        angles = [np.pi / 4]\n",
    "    elif derajat == 90:\n",
    "        angles = [np.pi / 2]\n",
    "    elif derajat == 135:\n",
    "        angles = [3 * np.pi / 4]\n",
    "    else:\n",
    "        raise ValueError(\"Invalid angle. It should be one of the following: 0, 45, 90, 135.\")\n",
    "    \n",
    "    # mengembalikan matrix glcm dari image\n",
    "    glcm = graycomatrix(image, [1], angles, 256, symmetric=True, normed=True)\n",
    "    return glcm"
   ]
  },
  {
   "cell_type": "markdown",
   "id": "631e79b5",
   "metadata": {},
   "source": [
    "Kode di atas digunakan untuk menghitung matriks co-occurrence tingkat abu-abu (Gray-Level Co-occurrence Matrix atau GLCM) dari sebuah citra grayscale berdasarkan sudut tertentu. Fungsi menerima dua parameter: image, yaitu citra input dalam format array dua dimensi, dan derajat, yang merupakan sudut orientasi yang ingin digunakan dalam perhitungan GLCM (hanya menerima nilai 0, 45, 90, atau 135 derajat). Berdasarkan nilai derajat, fungsi mengonversinya menjadi radian sesuai standar, misalnya 0 derajat menjadi 0 radian, 45 derajat menjadi π/4, 90 derajat menjadi π/2, dan 135 derajat menjadi 3π/4. Jika sudut yang diberikan tidak valid, fungsi akan mengeluarkan ValueError."
   ]
  },
  {
   "cell_type": "code",
   "execution_count": null,
   "id": "589354aa",
   "metadata": {},
   "outputs": [
    {
     "ename": "ValueError",
     "evalue": "Float images are not supported by graycomatrix. Convert the image to an unsigned integer type.",
     "output_type": "error",
     "traceback": [
      "\u001b[31m---------------------------------------------------------------------------\u001b[39m",
      "\u001b[31mValueError\u001b[39m                                Traceback (most recent call last)",
      "\u001b[36mCell\u001b[39m\u001b[36m \u001b[39m\u001b[32mIn[36]\u001b[39m\u001b[32m, line 27\u001b[39m\n\u001b[32m     25\u001b[39m Derajat135 = []\n\u001b[32m     26\u001b[39m \u001b[38;5;28;01mfor\u001b[39;00m i \u001b[38;5;129;01min\u001b[39;00m \u001b[38;5;28mrange\u001b[39m(\u001b[38;5;28mlen\u001b[39m(dataPreprocessed3)):\n\u001b[32m---> \u001b[39m\u001b[32m27\u001b[39m     D0 = \u001b[43mglcm\u001b[49m\u001b[43m(\u001b[49m\u001b[43mdataPreprocessed3\u001b[49m\u001b[43m[\u001b[49m\u001b[43mi\u001b[49m\u001b[43m]\u001b[49m\u001b[43m,\u001b[49m\u001b[43m \u001b[49m\u001b[32;43m0\u001b[39;49m\u001b[43m)\u001b[49m\n\u001b[32m     28\u001b[39m     D45 = glcm(dataPreprocessed3[i], \u001b[32m45\u001b[39m)\n\u001b[32m     29\u001b[39m     D90 = glcm(dataPreprocessed3[i], \u001b[32m90\u001b[39m)\n",
      "\u001b[36mCell\u001b[39m\u001b[36m \u001b[39m\u001b[32mIn[35]\u001b[39m\u001b[32m, line 14\u001b[39m, in \u001b[36mglcm\u001b[39m\u001b[34m(image, derajat)\u001b[39m\n\u001b[32m     11\u001b[39m     \u001b[38;5;28;01mraise\u001b[39;00m \u001b[38;5;167;01mValueError\u001b[39;00m(\u001b[33m\"\u001b[39m\u001b[33mInvalid angle. It should be one of the following: 0, 45, 90, 135.\u001b[39m\u001b[33m\"\u001b[39m)\n\u001b[32m     13\u001b[39m \u001b[38;5;66;03m# mengembalikan matrix glcm dari image\u001b[39;00m\n\u001b[32m---> \u001b[39m\u001b[32m14\u001b[39m glcm = \u001b[43mgraycomatrix\u001b[49m\u001b[43m(\u001b[49m\u001b[43mimage\u001b[49m\u001b[43m,\u001b[49m\u001b[43m \u001b[49m\u001b[43m[\u001b[49m\u001b[32;43m1\u001b[39;49m\u001b[43m]\u001b[49m\u001b[43m,\u001b[49m\u001b[43m \u001b[49m\u001b[43mangles\u001b[49m\u001b[43m,\u001b[49m\u001b[43m \u001b[49m\u001b[32;43m256\u001b[39;49m\u001b[43m,\u001b[49m\u001b[43m \u001b[49m\u001b[43msymmetric\u001b[49m\u001b[43m=\u001b[49m\u001b[38;5;28;43;01mTrue\u001b[39;49;00m\u001b[43m,\u001b[49m\u001b[43m \u001b[49m\u001b[43mnormed\u001b[49m\u001b[43m=\u001b[49m\u001b[38;5;28;43;01mTrue\u001b[39;49;00m\u001b[43m)\u001b[49m\n\u001b[32m     15\u001b[39m \u001b[38;5;28;01mreturn\u001b[39;00m glcm\n",
      "\u001b[36mFile \u001b[39m\u001b[32md:\\Semester 4\\PCD\\Praktikum\\venv\\Lib\\site-packages\\skimage\\feature\\texture.py:120\u001b[39m, in \u001b[36mgraycomatrix\u001b[39m\u001b[34m(image, distances, angles, levels, symmetric, normed)\u001b[39m\n\u001b[32m    117\u001b[39m image_max = image.max()\n\u001b[32m    119\u001b[39m \u001b[38;5;28;01mif\u001b[39;00m np.issubdtype(image.dtype, np.floating):\n\u001b[32m--> \u001b[39m\u001b[32m120\u001b[39m     \u001b[38;5;28;01mraise\u001b[39;00m \u001b[38;5;167;01mValueError\u001b[39;00m(\n\u001b[32m    121\u001b[39m         \u001b[33m\"\u001b[39m\u001b[33mFloat images are not supported by graycomatrix. \u001b[39m\u001b[33m\"\u001b[39m\n\u001b[32m    122\u001b[39m         \u001b[33m\"\u001b[39m\u001b[33mConvert the image to an unsigned integer type.\u001b[39m\u001b[33m\"\u001b[39m\n\u001b[32m    123\u001b[39m     )\n\u001b[32m    125\u001b[39m \u001b[38;5;66;03m# for image type > 8bit, levels must be set.\u001b[39;00m\n\u001b[32m    126\u001b[39m \u001b[38;5;28;01mif\u001b[39;00m image.dtype \u001b[38;5;129;01mnot\u001b[39;00m \u001b[38;5;129;01min\u001b[39;00m (np.uint8, np.int8) \u001b[38;5;129;01mand\u001b[39;00m levels \u001b[38;5;129;01mis\u001b[39;00m \u001b[38;5;28;01mNone\u001b[39;00m:\n",
      "\u001b[31mValueError\u001b[39m: Float images are not supported by graycomatrix. Convert the image to an unsigned integer type."
     ]
    }
   ],
   "source": [
    "def correlation(matriks):\n",
    "\treturn graycoprops(matriks, 'correlation')[0, 0]\n",
    "\n",
    "def dissimilarity(matriks):\n",
    "    return graycoprops(matriks, 'dissimilarity')[0, 0]\n",
    "\n",
    "def homogenity(matriks):\n",
    "    return graycoprops(matriks, 'homogeneity')[0, 0]\n",
    "\n",
    "def contrast(matriks):\n",
    "    return graycoprops(matriks, 'contrast')[0, 0]\n",
    "\n",
    "def ASM(matriks):\n",
    "    return graycoprops(matriks, 'ASM')[0, 0]\n",
    "\n",
    "def energy(matriks):\n",
    "    return graycoprops(matriks, 'energy')[0, 0]\n",
    "\n",
    "def entropyGlcm(matriks):\n",
    "    return entropy(matriks.ravel())\n",
    "\n",
    "Derajat0 = []\n",
    "Derajat45 = []\n",
    "Derajat90 = []\n",
    "Derajat135 = []\n",
    "for i in range(len(dataPreprocessed3)):\n",
    "    D0 = glcm(dataPreprocessed3[i], 0)\n",
    "    D45 = glcm(dataPreprocessed3[i], 45)\n",
    "    D90 = glcm(dataPreprocessed3[i], 90)\n",
    "    D135 = glcm(dataPreprocessed3[i], 135)\n",
    "    Derajat0.append(D0)\n",
    "    Derajat45.append(D45)\n",
    "    Derajat90.append(D90)\n",
    "    Derajat135.append(D135)"
   ]
  },
  {
   "cell_type": "markdown",
   "id": "f8ab3078",
   "metadata": {},
   "source": [
    "Kode di atas digunakan untuk mendefinisikan beberapa fungsi untuk mengekstraksi fitur tekstur dari matriks Gray-Level Co-occurrence Matrix (GLCM) menggunakan pustaka skimage.feature dan fungsi entropi dari scipy.stats. Setiap fungsi menerima sebuah matriks GLCM sebagai input dan mengembalikan nilai tunggal yang merepresentasikan fitur tekstur tertentu.\n",
    "\n",
    "Fungsi-fungsi tersebut meliputi:\n",
    "\n",
    "1. correlation: Menghitung korelasi, yang menunjukkan derajat linearitas hubungan antara piksel tetangga dalam citra.\n",
    "2. dissimilarity: Mengukur perbedaan intensitas antara piksel yang berpasangan, memberikan gambaran seberapa kontras tekstur.\n",
    "3. homogenity: Mengukur keseragaman atau kehalusan tekstur, dengan nilai tinggi menunjukkan tekstur yang lebih seragam.\n",
    "4. contrast: Mengukur variasi intensitas dalam citra, semakin tinggi nilai kontras, semakin tajam teksturnya.\n",
    "5. ASM (Angular Second Moment): Menggambarkan tingkat keteraturan atau homogenitas matriks, juga dikenal sebagai energi kuadrat.\n",
    "6. energy: Merupakan akar kuadrat dari ASM, merepresentasikan kekuatan tekstur.\n",
    "7. entropyGlcm: Menghitung entropi dari matriks GLCM, yaitu ukuran kompleksitas atau ketidakpastian dalam tekstur citra."
   ]
  },
  {
   "cell_type": "code",
   "execution_count": null,
   "id": "3a5f384f",
   "metadata": {},
   "outputs": [],
   "source": [
    "Kontras0, Kontras45, Kontras90, Kontras135 = [], [], [], []\n",
    "dissimilarity0, dissimilarity45, dissimilarity90, dissimilarity135 =  [], [], [], []\n",
    "homogenity0, homogenity45, homogenity90, homogenity135 = [], [], [], []\n",
    "entropy0, entropy45, entropy90, entropy135 =  [], [], [], []\n",
    "ASM0, ASM45, ASM90, ASM135 =  [], [], [], []\n",
    "energy0, energy45, energy90, energy135 =  [], [], [], []\n",
    "correlation0, correlation45, correlation90, correlation135 = [], [], [], []"
   ]
  },
  {
   "cell_type": "markdown",
   "id": "d66ca1f3",
   "metadata": {},
   "source": [
    "Kode diatas digunakan untuk mendefinisikan list kosong untuk setiap fitur tekstur yang akan diekstraksi pada tiap sudut, seperti kontras, dissimilarity, homogenitas, entropi, ASM, energi, dan korelasi. Kemudian, untuk setiap citra, fitur-fitur tersebut dihitung berdasarkan matriks GLCM yang telah disiapkan, dengan memanggil fungsi-fungsi seperti contrast(), dissimilarity(), homogenity(), entropyGlcm(), ASM(), energy(), dan correlation(). Nilai-nilai fitur yang diperoleh untuk masing-masing sudut derajat kemudian ditambahkan ke list yang sesuai."
   ]
  },
  {
   "cell_type": "code",
   "execution_count": null,
   "id": "d922cac6",
   "metadata": {},
   "outputs": [],
   "source": [
    "for i in range(len(dataPreprocessed3)):\n",
    "    C0 = correlation(Derajat0[i])\n",
    "    correlation0.append(C0)\n",
    "    C45 = correlation(Derajat45[i])\n",
    "    correlation45.append(C45)\n",
    "    C90 = correlation(Derajat90[i])\n",
    "    correlation90.append(C90)\n",
    "    C135 = correlation(Derajat135[i])\n",
    "    correlation135.append(C135)"
   ]
  },
  {
   "cell_type": "markdown",
   "id": "fa7873cb",
   "metadata": {},
   "source": [
    "Kode di atas digunakan untuk melakukan proses ekstraksi fitur korelasi tekstur dari citra hasil preprocessing yang telah dihitung sebelumnya dalam empat arah sudut (0°, 45°, 90°, dan 135°)."
   ]
  },
  {
   "cell_type": "code",
   "execution_count": null,
   "id": "5f98fdd2",
   "metadata": {},
   "outputs": [],
   "source": [
    "for i in range(len(data)):\n",
    "    K0 = contrast(Derajat0[i])\n",
    "    K45 = contrast(Derajat45[i])\n",
    "    K90 = contrast(Derajat90[i])\n",
    "    K135 = contrast(Derajat135[i])\n",
    "    Kontras0.append(K0)\n",
    "    Kontras45.append(K45)\n",
    "    Kontras90.append(K90)\n",
    "    Kontras135.append(K135)"
   ]
  },
  {
   "cell_type": "markdown",
   "id": "8a595ef3",
   "metadata": {},
   "source": [
    "Kode di atas digunakan untuk menghitung nilai kontras tekstur dari setiap citra dalam dataset data berdasarkan matriks GLCM (Gray Level Co-occurrence Matrix) pada empat arah: 0°, 45°, 90°, dan 135°. Fungsi contrast() mengambil nilai kontras dari masing-masing GLCM pada arah tertentu. "
   ]
  },
  {
   "cell_type": "code",
   "execution_count": null,
   "id": "89d4fad1",
   "metadata": {},
   "outputs": [],
   "source": [
    "for i in range(len(data)):\n",
    "    Dis0 = dissimilarity(Derajat0[i])\n",
    "    Dis45 = dissimilarity(Derajat45[i])\n",
    "    Dis90 = dissimilarity(Derajat90[i])\n",
    "    Dis135 = dissimilarity(Derajat135[i])\n",
    "    dissimilarity0.append(Dis0)\n",
    "    dissimilarity45.append(Dis45)\n",
    "    dissimilarity90.append(Dis90)\n",
    "    dissimilarity135.append(Dis135)"
   ]
  },
  {
   "cell_type": "markdown",
   "id": "9a1da53c",
   "metadata": {},
   "source": [
    "Kode di atas digunakan untuk menghitung nilai dissimilarity (ketidaksamaan) tekstur dari setiap citra pada dataset data menggunakan matriks GLCM (Gray Level Co-occurrence Matrix) di empat arah: 0°, 45°, 90°, dan 135°. Fungsi dissimilarity() menghitung seberapa berbeda intensitas piksel yang berdekatan dalam citra, dimana nilai yang lebih tinggi menunjukkan perbedaan yang lebih besar antar piksel. "
   ]
  },
  {
   "cell_type": "code",
   "execution_count": null,
   "id": "f903532d",
   "metadata": {},
   "outputs": [],
   "source": [
    "for i in range(len(data)):\n",
    "    H0 = homogenity(Derajat0[i])\n",
    "    H45 = homogenity(Derajat45[i])\n",
    "    H90 = homogenity(Derajat90[i])\n",
    "    H135 = homogenity(Derajat135[i])\n",
    "    homogenity0.append(H0)\n",
    "    homogenity45.append(H45)\n",
    "    homogenity90.append(H90)\n",
    "    homogenity135.append(H135)"
   ]
  },
  {
   "cell_type": "markdown",
   "id": "779148f1",
   "metadata": {},
   "source": [
    "Kode di atas digunakan untuk menghitung nilai homogenitas tekstur dari setiap citra dalam dataset data berdasarkan matriks GLCM (Gray Level Co-occurrence Matrix) pada empat arah: 0°, 45°, 90°, dan 135°. Fungsi homogenity() mengukur keseragaman distribusi intensitas piksel dalam citra, dimana nilai yang lebih tinggi menunjukkan tekstur yang lebih halus dan seragam. "
   ]
  },
  {
   "cell_type": "code",
   "execution_count": null,
   "id": "59f6cfe9",
   "metadata": {},
   "outputs": [],
   "source": [
    "for i in range(len(data)):  \n",
    "    E0 = entropyGlcm(Derajat0[i])\n",
    "    E45 = entropyGlcm(Derajat45[i])\n",
    "    E90 = entropyGlcm(Derajat90[i])\n",
    "    E135 = entropyGlcm(Derajat135[i])\n",
    "    entropy0.append(E0)\n",
    "    entropy45.append(E45)\n",
    "    entropy90.append(E90)\n",
    "    entropy135.append(E135)"
   ]
  },
  {
   "cell_type": "markdown",
   "id": "29a6d146",
   "metadata": {},
   "source": [
    "Kode di atas digunakan untuk menghitung nilai entropi tekstur dari setiap citra pada dataset data menggunakan matriks GLCM (Gray Level Co-occurrence Matrix) pada empat arah: 0°, 45°, 90°, dan 135°. Fungsi entropyGlcm() mengukur tingkat ketidakteraturan atau kompleksitas pola tekstur dalam citra, dimana nilai entropi yang lebih tinggi menunjukkan tekstur yang lebih acak atau kompleks."
   ]
  },
  {
   "cell_type": "code",
   "execution_count": null,
   "id": "74362d1a",
   "metadata": {},
   "outputs": [],
   "source": [
    "for i in range(len(data)):\n",
    "    A0 = ASM(Derajat0[i])\n",
    "    A45 = ASM(Derajat45[i])\n",
    "    A90 = ASM(Derajat90[i])\n",
    "    A135 = ASM(Derajat135[i])\n",
    "    ASM0.append(A0)\n",
    "    ASM45.append(A45)\n",
    "    ASM90.append(A90)\n",
    "    ASM135.append(A135)"
   ]
  },
  {
   "cell_type": "markdown",
   "id": "7a415623",
   "metadata": {},
   "source": [
    "Kode di atas digunakan untuk menghitung nilai ASM (Angular Second Moment) atau juga dikenal sebagai energi tekstur dari setiap citra pada dataset data menggunakan matriks GLCM (Gray Level Co-occurrence Matrix) pada empat arah: 0°, 45°, 90°, dan 135°. Fungsi ASM() mengukur homogenitas atau keteraturan tekstur, di mana nilai ASM yang lebih tinggi menunjukkan tekstur yang lebih seragam dan teratur. "
   ]
  },
  {
   "cell_type": "code",
   "execution_count": null,
   "id": "19dc5fcd",
   "metadata": {},
   "outputs": [],
   "source": [
    "for i in range(len(data)):\n",
    "    ER0 = energy(Derajat0[i])\n",
    "    ER45 = energy(Derajat45[i])\n",
    "    ER90 = energy(Derajat90[i])\n",
    "    ER135 = energy(Derajat135[i])\n",
    "    energy0.append(ER0)\n",
    "    energy45.append(ER45)\n",
    "    energy90.append(ER90)\n",
    "    energy135.append(ER135)"
   ]
  },
  {
   "cell_type": "markdown",
   "id": "633d8c70",
   "metadata": {},
   "source": [
    "Kode di atas digunakan untuk menghitung nilai energy (energi) tekstur dari setiap citra dalam dataset data berdasarkan matriks GLCM (Gray Level Co-occurrence Matrix) pada empat arah: 0°, 45°, 90°, dan 135°. Fungsi energy() mengukur kekuatan atau intensitas tekstur yang mencerminkan tingkat keteraturan pola dalam gambar. "
   ]
  },
  {
   "cell_type": "code",
   "execution_count": null,
   "id": "b5eca301",
   "metadata": {},
   "outputs": [
    {
     "data": {
      "text/html": [
       "<div>\n",
       "<style scoped>\n",
       "    .dataframe tbody tr th:only-of-type {\n",
       "        vertical-align: middle;\n",
       "    }\n",
       "\n",
       "    .dataframe tbody tr th {\n",
       "        vertical-align: top;\n",
       "    }\n",
       "\n",
       "    .dataframe thead th {\n",
       "        text-align: right;\n",
       "    }\n",
       "</style>\n",
       "<table border=\"1\" class=\"dataframe\">\n",
       "  <thead>\n",
       "    <tr style=\"text-align: right;\">\n",
       "      <th></th>\n",
       "      <th>Filename</th>\n",
       "      <th>Label</th>\n",
       "      <th>Contrast0</th>\n",
       "      <th>Contrast45</th>\n",
       "      <th>Contrast90</th>\n",
       "      <th>Contrast135</th>\n",
       "      <th>Homogeneity0</th>\n",
       "      <th>Homogeneity45</th>\n",
       "      <th>Homogeneity90</th>\n",
       "      <th>Homogeneity135</th>\n",
       "      <th>...</th>\n",
       "      <th>ASM90</th>\n",
       "      <th>ASM135</th>\n",
       "      <th>Energy0</th>\n",
       "      <th>Energy45</th>\n",
       "      <th>Energy90</th>\n",
       "      <th>Energy135</th>\n",
       "      <th>Correlation0</th>\n",
       "      <th>Correlation45</th>\n",
       "      <th>Correlation90</th>\n",
       "      <th>Correlation135</th>\n",
       "    </tr>\n",
       "  </thead>\n",
       "  <tbody>\n",
       "    <tr>\n",
       "      <th>0</th>\n",
       "      <td>00f3d2cc-93ea-40f0-9b88-b159b07a49cb.jpg</td>\n",
       "      <td>normal-cecum</td>\n",
       "      <td>785.582261</td>\n",
       "      <td>955.406114</td>\n",
       "      <td>787.427509</td>\n",
       "      <td>897.038415</td>\n",
       "      <td>0.752948</td>\n",
       "      <td>0.713713</td>\n",
       "      <td>0.739346</td>\n",
       "      <td>0.719251</td>\n",
       "      <td>...</td>\n",
       "      <td>0.375416</td>\n",
       "      <td>0.370460</td>\n",
       "      <td>0.612491</td>\n",
       "      <td>0.607448</td>\n",
       "      <td>0.612712</td>\n",
       "      <td>0.608655</td>\n",
       "      <td>0.922019</td>\n",
       "      <td>0.905243</td>\n",
       "      <td>0.921835</td>\n",
       "      <td>0.911032</td>\n",
       "    </tr>\n",
       "    <tr>\n",
       "      <th>1</th>\n",
       "      <td>01c49663-9674-44ae-b61e-05243a30e4ab.jpg</td>\n",
       "      <td>normal-cecum</td>\n",
       "      <td>826.786632</td>\n",
       "      <td>925.058536</td>\n",
       "      <td>780.717007</td>\n",
       "      <td>929.042589</td>\n",
       "      <td>0.699530</td>\n",
       "      <td>0.661857</td>\n",
       "      <td>0.695583</td>\n",
       "      <td>0.663087</td>\n",
       "      <td>...</td>\n",
       "      <td>0.299163</td>\n",
       "      <td>0.293867</td>\n",
       "      <td>0.546003</td>\n",
       "      <td>0.542326</td>\n",
       "      <td>0.546958</td>\n",
       "      <td>0.542095</td>\n",
       "      <td>0.917211</td>\n",
       "      <td>0.907418</td>\n",
       "      <td>0.921824</td>\n",
       "      <td>0.907020</td>\n",
       "    </tr>\n",
       "    <tr>\n",
       "      <th>2</th>\n",
       "      <td>01e023db-5c76-4c28-91ab-06e36cd31495.jpg</td>\n",
       "      <td>normal-cecum</td>\n",
       "      <td>335.050101</td>\n",
       "      <td>405.873982</td>\n",
       "      <td>330.557768</td>\n",
       "      <td>382.813485</td>\n",
       "      <td>0.873132</td>\n",
       "      <td>0.846321</td>\n",
       "      <td>0.861023</td>\n",
       "      <td>0.850416</td>\n",
       "      <td>...</td>\n",
       "      <td>0.607254</td>\n",
       "      <td>0.603618</td>\n",
       "      <td>0.779207</td>\n",
       "      <td>0.776248</td>\n",
       "      <td>0.779265</td>\n",
       "      <td>0.776928</td>\n",
       "      <td>0.956832</td>\n",
       "      <td>0.947784</td>\n",
       "      <td>0.957411</td>\n",
       "      <td>0.950750</td>\n",
       "    </tr>\n",
       "    <tr>\n",
       "      <th>3</th>\n",
       "      <td>02dcedf1-c0bd-4ef4-b072-ea8f11da6a1d.jpg</td>\n",
       "      <td>normal-cecum</td>\n",
       "      <td>719.063096</td>\n",
       "      <td>794.964672</td>\n",
       "      <td>675.604972</td>\n",
       "      <td>837.074690</td>\n",
       "      <td>0.769046</td>\n",
       "      <td>0.749100</td>\n",
       "      <td>0.771427</td>\n",
       "      <td>0.745292</td>\n",
       "      <td>...</td>\n",
       "      <td>0.449467</td>\n",
       "      <td>0.443372</td>\n",
       "      <td>0.669057</td>\n",
       "      <td>0.666679</td>\n",
       "      <td>0.670423</td>\n",
       "      <td>0.665862</td>\n",
       "      <td>0.932487</td>\n",
       "      <td>0.925442</td>\n",
       "      <td>0.936567</td>\n",
       "      <td>0.921493</td>\n",
       "    </tr>\n",
       "    <tr>\n",
       "      <th>4</th>\n",
       "      <td>032a3076-c75c-4089-a57c-1b19e5f6589e.jpg</td>\n",
       "      <td>normal-cecum</td>\n",
       "      <td>1030.887942</td>\n",
       "      <td>1173.677751</td>\n",
       "      <td>996.077865</td>\n",
       "      <td>1167.964882</td>\n",
       "      <td>0.717894</td>\n",
       "      <td>0.687087</td>\n",
       "      <td>0.720843</td>\n",
       "      <td>0.696356</td>\n",
       "      <td>...</td>\n",
       "      <td>0.366170</td>\n",
       "      <td>0.359989</td>\n",
       "      <td>0.604315</td>\n",
       "      <td>0.600227</td>\n",
       "      <td>0.605120</td>\n",
       "      <td>0.599991</td>\n",
       "      <td>0.909399</td>\n",
       "      <td>0.896940</td>\n",
       "      <td>0.912459</td>\n",
       "      <td>0.897442</td>\n",
       "    </tr>\n",
       "    <tr>\n",
       "      <th>...</th>\n",
       "      <td>...</td>\n",
       "      <td>...</td>\n",
       "      <td>...</td>\n",
       "      <td>...</td>\n",
       "      <td>...</td>\n",
       "      <td>...</td>\n",
       "      <td>...</td>\n",
       "      <td>...</td>\n",
       "      <td>...</td>\n",
       "      <td>...</td>\n",
       "      <td>...</td>\n",
       "      <td>...</td>\n",
       "      <td>...</td>\n",
       "      <td>...</td>\n",
       "      <td>...</td>\n",
       "      <td>...</td>\n",
       "      <td>...</td>\n",
       "      <td>...</td>\n",
       "      <td>...</td>\n",
       "      <td>...</td>\n",
       "      <td>...</td>\n",
       "    </tr>\n",
       "    <tr>\n",
       "      <th>295</th>\n",
       "      <td>fc79c489-b358-4368-b965-330615af73d4_00000332.jpg</td>\n",
       "      <td>ulcerative-colitis</td>\n",
       "      <td>629.834562</td>\n",
       "      <td>652.095749</td>\n",
       "      <td>510.176660</td>\n",
       "      <td>713.175455</td>\n",
       "      <td>0.915854</td>\n",
       "      <td>0.913976</td>\n",
       "      <td>0.924679</td>\n",
       "      <td>0.909038</td>\n",
       "      <td>...</td>\n",
       "      <td>0.811320</td>\n",
       "      <td>0.800972</td>\n",
       "      <td>0.897486</td>\n",
       "      <td>0.896405</td>\n",
       "      <td>0.900733</td>\n",
       "      <td>0.894970</td>\n",
       "      <td>0.777194</td>\n",
       "      <td>0.769732</td>\n",
       "      <td>0.819523</td>\n",
       "      <td>0.748163</td>\n",
       "    </tr>\n",
       "    <tr>\n",
       "      <th>296</th>\n",
       "      <td>fc79c489-b358-4368-b965-330615af73d4_00000351.jpg</td>\n",
       "      <td>ulcerative-colitis</td>\n",
       "      <td>1251.358427</td>\n",
       "      <td>1391.561238</td>\n",
       "      <td>950.852977</td>\n",
       "      <td>1272.866671</td>\n",
       "      <td>0.857773</td>\n",
       "      <td>0.849250</td>\n",
       "      <td>0.872306</td>\n",
       "      <td>0.853871</td>\n",
       "      <td>...</td>\n",
       "      <td>0.709968</td>\n",
       "      <td>0.695319</td>\n",
       "      <td>0.834672</td>\n",
       "      <td>0.830957</td>\n",
       "      <td>0.842596</td>\n",
       "      <td>0.833858</td>\n",
       "      <td>0.699038</td>\n",
       "      <td>0.665879</td>\n",
       "      <td>0.771312</td>\n",
       "      <td>0.694378</td>\n",
       "    </tr>\n",
       "    <tr>\n",
       "      <th>297</th>\n",
       "      <td>fc79c489-b358-4368-b965-330615af73d4_00000403.jpg</td>\n",
       "      <td>ulcerative-colitis</td>\n",
       "      <td>1318.377706</td>\n",
       "      <td>1432.209175</td>\n",
       "      <td>1052.788749</td>\n",
       "      <td>1381.786819</td>\n",
       "      <td>0.859746</td>\n",
       "      <td>0.852180</td>\n",
       "      <td>0.878377</td>\n",
       "      <td>0.855185</td>\n",
       "      <td>...</td>\n",
       "      <td>0.686928</td>\n",
       "      <td>0.676854</td>\n",
       "      <td>0.823867</td>\n",
       "      <td>0.820822</td>\n",
       "      <td>0.828811</td>\n",
       "      <td>0.822711</td>\n",
       "      <td>0.826975</td>\n",
       "      <td>0.812343</td>\n",
       "      <td>0.861831</td>\n",
       "      <td>0.818950</td>\n",
       "    </tr>\n",
       "    <tr>\n",
       "      <th>298</th>\n",
       "      <td>fc79c489-b358-4368-b965-330615af73d4_00000411.jpg</td>\n",
       "      <td>ulcerative-colitis</td>\n",
       "      <td>1734.851173</td>\n",
       "      <td>1923.703655</td>\n",
       "      <td>1555.058540</td>\n",
       "      <td>1887.165375</td>\n",
       "      <td>0.857402</td>\n",
       "      <td>0.844965</td>\n",
       "      <td>0.870215</td>\n",
       "      <td>0.845215</td>\n",
       "      <td>...</td>\n",
       "      <td>0.578910</td>\n",
       "      <td>0.570989</td>\n",
       "      <td>0.758208</td>\n",
       "      <td>0.755336</td>\n",
       "      <td>0.760862</td>\n",
       "      <td>0.755638</td>\n",
       "      <td>0.887929</td>\n",
       "      <td>0.875909</td>\n",
       "      <td>0.899543</td>\n",
       "      <td>0.878266</td>\n",
       "    </tr>\n",
       "    <tr>\n",
       "      <th>299</th>\n",
       "      <td>fc79c489-b358-4368-b965-330615af73d4_00000413.jpg</td>\n",
       "      <td>ulcerative-colitis</td>\n",
       "      <td>1487.328958</td>\n",
       "      <td>1688.490960</td>\n",
       "      <td>1377.850783</td>\n",
       "      <td>1574.826659</td>\n",
       "      <td>0.862264</td>\n",
       "      <td>0.849628</td>\n",
       "      <td>0.875545</td>\n",
       "      <td>0.850736</td>\n",
       "      <td>...</td>\n",
       "      <td>0.596799</td>\n",
       "      <td>0.592183</td>\n",
       "      <td>0.771294</td>\n",
       "      <td>0.768361</td>\n",
       "      <td>0.772528</td>\n",
       "      <td>0.769534</td>\n",
       "      <td>0.898552</td>\n",
       "      <td>0.885000</td>\n",
       "      <td>0.906019</td>\n",
       "      <td>0.892742</td>\n",
       "    </tr>\n",
       "  </tbody>\n",
       "</table>\n",
       "<p>300 rows × 30 columns</p>\n",
       "</div>"
      ],
      "text/plain": [
       "                                              Filename               Label  \\\n",
       "0             00f3d2cc-93ea-40f0-9b88-b159b07a49cb.jpg        normal-cecum   \n",
       "1             01c49663-9674-44ae-b61e-05243a30e4ab.jpg        normal-cecum   \n",
       "2             01e023db-5c76-4c28-91ab-06e36cd31495.jpg        normal-cecum   \n",
       "3             02dcedf1-c0bd-4ef4-b072-ea8f11da6a1d.jpg        normal-cecum   \n",
       "4             032a3076-c75c-4089-a57c-1b19e5f6589e.jpg        normal-cecum   \n",
       "..                                                 ...                 ...   \n",
       "295  fc79c489-b358-4368-b965-330615af73d4_00000332.jpg  ulcerative-colitis   \n",
       "296  fc79c489-b358-4368-b965-330615af73d4_00000351.jpg  ulcerative-colitis   \n",
       "297  fc79c489-b358-4368-b965-330615af73d4_00000403.jpg  ulcerative-colitis   \n",
       "298  fc79c489-b358-4368-b965-330615af73d4_00000411.jpg  ulcerative-colitis   \n",
       "299  fc79c489-b358-4368-b965-330615af73d4_00000413.jpg  ulcerative-colitis   \n",
       "\n",
       "       Contrast0   Contrast45   Contrast90  Contrast135  Homogeneity0  \\\n",
       "0     785.582261   955.406114   787.427509   897.038415      0.752948   \n",
       "1     826.786632   925.058536   780.717007   929.042589      0.699530   \n",
       "2     335.050101   405.873982   330.557768   382.813485      0.873132   \n",
       "3     719.063096   794.964672   675.604972   837.074690      0.769046   \n",
       "4    1030.887942  1173.677751   996.077865  1167.964882      0.717894   \n",
       "..           ...          ...          ...          ...           ...   \n",
       "295   629.834562   652.095749   510.176660   713.175455      0.915854   \n",
       "296  1251.358427  1391.561238   950.852977  1272.866671      0.857773   \n",
       "297  1318.377706  1432.209175  1052.788749  1381.786819      0.859746   \n",
       "298  1734.851173  1923.703655  1555.058540  1887.165375      0.857402   \n",
       "299  1487.328958  1688.490960  1377.850783  1574.826659      0.862264   \n",
       "\n",
       "     Homogeneity45  Homogeneity90  Homogeneity135  ...     ASM90    ASM135  \\\n",
       "0         0.713713       0.739346        0.719251  ...  0.375416  0.370460   \n",
       "1         0.661857       0.695583        0.663087  ...  0.299163  0.293867   \n",
       "2         0.846321       0.861023        0.850416  ...  0.607254  0.603618   \n",
       "3         0.749100       0.771427        0.745292  ...  0.449467  0.443372   \n",
       "4         0.687087       0.720843        0.696356  ...  0.366170  0.359989   \n",
       "..             ...            ...             ...  ...       ...       ...   \n",
       "295       0.913976       0.924679        0.909038  ...  0.811320  0.800972   \n",
       "296       0.849250       0.872306        0.853871  ...  0.709968  0.695319   \n",
       "297       0.852180       0.878377        0.855185  ...  0.686928  0.676854   \n",
       "298       0.844965       0.870215        0.845215  ...  0.578910  0.570989   \n",
       "299       0.849628       0.875545        0.850736  ...  0.596799  0.592183   \n",
       "\n",
       "      Energy0  Energy45  Energy90  Energy135  Correlation0  Correlation45  \\\n",
       "0    0.612491  0.607448  0.612712   0.608655      0.922019       0.905243   \n",
       "1    0.546003  0.542326  0.546958   0.542095      0.917211       0.907418   \n",
       "2    0.779207  0.776248  0.779265   0.776928      0.956832       0.947784   \n",
       "3    0.669057  0.666679  0.670423   0.665862      0.932487       0.925442   \n",
       "4    0.604315  0.600227  0.605120   0.599991      0.909399       0.896940   \n",
       "..        ...       ...       ...        ...           ...            ...   \n",
       "295  0.897486  0.896405  0.900733   0.894970      0.777194       0.769732   \n",
       "296  0.834672  0.830957  0.842596   0.833858      0.699038       0.665879   \n",
       "297  0.823867  0.820822  0.828811   0.822711      0.826975       0.812343   \n",
       "298  0.758208  0.755336  0.760862   0.755638      0.887929       0.875909   \n",
       "299  0.771294  0.768361  0.772528   0.769534      0.898552       0.885000   \n",
       "\n",
       "     Correlation90  Correlation135  \n",
       "0         0.921835        0.911032  \n",
       "1         0.921824        0.907020  \n",
       "2         0.957411        0.950750  \n",
       "3         0.936567        0.921493  \n",
       "4         0.912459        0.897442  \n",
       "..             ...             ...  \n",
       "295       0.819523        0.748163  \n",
       "296       0.771312        0.694378  \n",
       "297       0.861831        0.818950  \n",
       "298       0.899543        0.878266  \n",
       "299       0.906019        0.892742  \n",
       "\n",
       "[300 rows x 30 columns]"
      ]
     },
     "execution_count": 16,
     "metadata": {},
     "output_type": "execute_result"
    }
   ],
   "source": [
    "dataTable = {'Filename': file_name, 'Label': labels,\n",
    "        'Contrast0': Kontras0, 'Contrast45': Kontras45, 'Contrast90': Kontras90, 'Contrast135': Kontras135,\n",
    "        'Homogeneity0': homogenity0, 'Homogeneity45': homogenity45, 'Homogeneity90': homogenity90, 'Homogeneity135': homogenity135,\n",
    "        'Dissimilarity0': dissimilarity0, 'Dissimilarity45': dissimilarity45, 'Dissimilarity90': dissimilarity90, 'Dissimilarity135': dissimilarity135,\n",
    "        'Entropy0': entropy0, 'Entropy45': entropy45, 'Entropy90': entropy90, 'Entropy135': entropy135,\n",
    "        'ASM0': ASM0, 'ASM45': ASM45, 'ASM90': ASM90, 'ASM135': ASM135,\n",
    "        'Energy0': energy0, 'Energy45': energy45, 'Energy90': energy90, 'Energy135': energy135,\n",
    "        'Correlation0': correlation0, 'Correlation45': correlation45, 'Correlation90': correlation90, 'Correlation135': correlation135,\n",
    "        }\n",
    "df = pd.DataFrame(dataTable)\n",
    "df.to_csv('hasil_ekstraksi_3.csv', index=False)\n",
    "\n",
    "hasilEkstrak = pd.read_csv('hasil_ekstraksi_3.csv')\n",
    "hasilEkstrak"
   ]
  },
  {
   "cell_type": "markdown",
   "id": "b2fcae3f",
   "metadata": {},
   "source": [
    "Kode di atas digunakan membuat sebuah DataFrame dari pandas yang berisi semua fitur tekstur hasil ekstraksi dari citra, beserta nama file dan label kelasnya. Data fitur tekstur tersebut meliputi kontras, homogenitas, dissimilarity, entropi, ASM, energi, dan korelasi, masing-masing untuk empat arah (0°, 45°, 90°, 135°). Setelah DataFrame terbentuk, data tersebut disimpan ke dalam file CSV bernama 'hasil_ekstraksi_3.csv'. Selanjutnya, file CSV ini dibaca kembali ke dalam variabel hasilEkstrak agar bisa dilihat atau diolah lebih lanjut. Ini adalah langkah penting untuk menyimpan dan mengorganisasi data fitur secara terstruktur untuk analisis atau pemodelan berikutnya."
   ]
  },
  {
   "cell_type": "code",
   "execution_count": null,
   "id": "e4cf2973",
   "metadata": {},
   "outputs": [
    {
     "data": {
      "text/plain": [
       "<Axes: >"
      ]
     },
     "execution_count": 17,
     "metadata": {},
     "output_type": "execute_result"
    },
    {
     "data": {
      "image/png": "[encoded data removed]",
      "text/plain": [
       "<Figure size 1700x1700 with 2 Axes>"
      ]
     },
     "metadata": {},
     "output_type": "display_data"
    }
   ],
   "source": [
    "# Menghitung korelasi\n",
    "correlation = hasilEkstrak.drop(columns=['Label','Filename']).corr()\n",
    "\n",
    "# Menyaring fitur yang memiliki korelasi absolut lebih dari 0.95 dengan label\n",
    "threshold = 0.95 # atur threshold ini untuk menentukan seberapa besar korelasi yang ingin disaring\n",
    "selectionFeature = []\n",
    "columns = np.full((correlation.shape[0],), True, dtype=bool)\n",
    "for i in range(correlation.shape[0]):\n",
    "\tfor j in range(i+1, correlation.shape[0]):\n",
    "\t\tif correlation.iloc[i,j] >= threshold:\n",
    "\t\t\tif columns[j]:\n",
    "\t\t\t\tcolumns[j] = False\n",
    "select = hasilEkstrak.drop(columns=['Label','Filename']).columns[columns]\n",
    "x_new = hasilEkstrak[select]\n",
    "x_new\n",
    "y = hasilEkstrak['Label']\n",
    "plt.figure(figsize=(17,17))\n",
    "sns.heatmap(x_new.corr(), annot=True, cmap='Blues', fmt=\".2f\")"
   ]
  },
  {
   "cell_type": "markdown",
   "id": "faabef1d",
   "metadata": {},
   "source": [
    "Kode di atas digunakan untuk melakukan seleksi fitur dengan menghitung matriks korelasi antar fitur dari dataset hasilEkstrak setelah menghilangkan kolom Label dan Filename. Fitur yang memiliki korelasi absolut lebih besar atau sama dengan threshold 0.95 dianggap sangat mirip, sehingga salah satu dari fitur yang berkorelasi tinggi tersebut akan dihapus untuk mengurangi redundansi."
   ]
  },
  {
   "cell_type": "markdown",
   "id": "f42b8fcf",
   "metadata": {},
   "source": [
    "<h1>SPLITTING DATA</h1>"
   ]
  },
  {
   "cell_type": "code",
   "execution_count": null,
   "id": "182a0b8c",
   "metadata": {},
   "outputs": [
    {
     "name": "stdout",
     "output_type": "stream",
     "text": [
      "(240, 4)\n",
      "(60, 4)\n"
     ]
    }
   ],
   "source": [
    "# ubah bagian test_size sesuai kebutuhan\n",
    "# 0.3 = 30% data untuk testing (train/test 70/30)\n",
    "# 0.2 = 20% data untuk testing (train/test 80/20)\n",
    "X_train, X_test, y_train, y_test = train_test_split(x_new, y, test_size=0.2, random_state=42)\n",
    "print(X_train.shape)\n",
    "print(X_test.shape)"
   ]
  },
  {
   "cell_type": "markdown",
   "id": "8ccf2cb6",
   "metadata": {},
   "source": [
    "Kode di atas digunakan membagi dataset fitur x_new dan label y menjadi dua bagian: data latih (X_train, y_train) dan data uji (X_test, y_test). Proporsi data uji diatur dengan parameter test_size=0.2, artinya 20% data digunakan untuk pengujian dan sisanya 80% untuk pelatihan. Parameter random_state=42"
   ]
  },
  {
   "cell_type": "markdown",
   "id": "a04e38c0",
   "metadata": {},
   "source": [
    "<h1>FEATURE NORMALIZATION</h1>"
   ]
  },
  {
   "cell_type": "code",
   "execution_count": null,
   "id": "794538c5",
   "metadata": {},
   "outputs": [],
   "source": [
    "# normalisasi mean std\n",
    "X_test = (X_test - X_train.mean()) / X_train.std()\n",
    "X_train = (X_train - X_train.mean()) / X_train.std()"
   ]
  },
  {
   "cell_type": "markdown",
   "id": "9802bfb7",
   "metadata": {},
   "source": [
    "Kode di atas digunakan untuk melakukan proses normalisasi fitur menggunakan metode standardisasi atau Z-score normalization. Pada teknik ini, setiap nilai fitur diubah dengan mengurangi nilai rata-rata (mean) dan kemudian dibagi dengan standar deviasi (standard deviation) dari data pelatihan (X_train). Tujuannya adalah untuk mengubah distribusi data agar memiliki rata-rata nol dan standar deviasi satu, sehingga fitur-fitur tersebut berada pada skala yang sama."
   ]
  },
  {
   "cell_type": "markdown",
   "id": "00f31ec1",
   "metadata": {},
   "source": [
    "<h1>MODELING</h1>"
   ]
  },
  {
   "cell_type": "code",
   "execution_count": null,
   "id": "6e01d850",
   "metadata": {},
   "outputs": [],
   "source": [
    "def generateClassificationReport(y_true, y_pred):\n",
    "\tprint(classification_report(y_true, y_pred))\n",
    "\tprint(confusion_matrix(y_true, y_pred))\n",
    "\tprint('Accuracy:', accuracy_score(y_true, y_pred))\n",
    "\n",
    "# Define classifiers\n",
    "rf = RandomForestClassifier(n_estimators=5, random_state=42)\n",
    "svm = SVC(kernel='rbf', random_state=42)\n",
    "knn = KNeighborsClassifier(n_neighbors=5)"
   ]
  },
  {
   "cell_type": "markdown",
   "id": "a9315e05",
   "metadata": {},
   "source": [
    "Kode di atas digunakan mendefinisikan sebuah fungsi dan beberapa model klasifikasi untuk analisis data. Fungsi generateClassificationReport menerima dua parameter, yaitu y_true (label asli) dan y_pred (label prediksi dari model). Fungsi ini mencetak laporan klasifikasi lengkap yang meliputi metrik seperti precision, recall, dan F1-score dengan menggunakan classification_report. Selain itu, fungsi juga menampilkan matriks kebingungan (confusion_matrix) untuk menggambarkan performa klasifikasi secara visual, serta menghitung dan mencetak akurasi (accuracy_score) yang menunjukkan proporsi prediksi benar dari total data."
   ]
  },
  {
   "cell_type": "code",
   "execution_count": null,
   "id": "5f531e2e",
   "metadata": {},
   "outputs": [
    {
     "name": "stdout",
     "output_type": "stream",
     "text": [
      "------Training Set------\n",
      "                    precision    recall  f1-score   support\n",
      "\n",
      "      normal-cecum       0.95      0.94      0.94        78\n",
      "            polyps       0.92      0.94      0.93        84\n",
      "ulcerative-colitis       0.97      0.96      0.97        78\n",
      "\n",
      "          accuracy                           0.95       240\n",
      "         macro avg       0.95      0.95      0.95       240\n",
      "      weighted avg       0.95      0.95      0.95       240\n",
      "\n",
      "[[73  4  1]\n",
      " [ 4 79  1]\n",
      " [ 0  3 75]]\n",
      "Accuracy: 0.9458333333333333\n",
      "\n",
      "------Testing Set------\n",
      "                    precision    recall  f1-score   support\n",
      "\n",
      "      normal-cecum       0.62      0.68      0.65        22\n",
      "            polyps       0.58      0.69      0.63        16\n",
      "ulcerative-colitis       0.76      0.59      0.67        22\n",
      "\n",
      "          accuracy                           0.65        60\n",
      "         macro avg       0.66      0.65      0.65        60\n",
      "      weighted avg       0.66      0.65      0.65        60\n",
      "\n",
      "[[15  3  4]\n",
      " [ 5 11  0]\n",
      " [ 4  5 13]]\n",
      "Accuracy: 0.65\n"
     ]
    }
   ],
   "source": [
    "# Train Random Forest Classifier\n",
    "rf.fit(X_train, y_train)\n",
    "\n",
    "# Make predictions and evaluate the model with the training set\n",
    "print(\"------Training Set------\")\n",
    "y_pred = rf.predict(X_train)\n",
    "generateClassificationReport( y_train, y_pred)\n",
    "\n",
    "# Make predictions and evaluate the model with the testing set\n",
    "print(\"\\n------Testing Set------\")\n",
    "y_pred = rf.predict(X_test)\n",
    "generateClassificationReport( y_test, y_pred)"
   ]
  },
  {
   "cell_type": "markdown",
   "id": "3534b259",
   "metadata": {},
   "source": [
    "<h2>Train Random Forest Clasisifier</h2>\n",
    "Kode diatas digunakan untuk melakukan pelatihan dan evaluasi model klasifikasi menggunakan algoritma Random Forest. Pertama-tama, model rf dilatih dengan data X_train dan label y_train menggunakan fungsi fit(). Setelah model dilatih, prediksi dilakukan terhadap data pelatihan sendiri, kemudian hasilnya dievaluasi melalui fungsi generateClassificationReport yang mencetak precision, recall, f1-score, matriks kebingungan, dan akurasi secara keseluruhan."
   ]
  },
  {
   "cell_type": "markdown",
   "id": "4339bc22",
   "metadata": {},
   "source": [
    "<h2>Analaisis Hasil Akurasi</h2>\n",
    "Evaluasi model menunjukkan performa sangat baik pada data pelatihan dengan akurasi sekitar 94.6% dan nilai precision, recall, serta f1-score di atas 0.93 untuk ketiga kelas (normal-cecum, polyps, ulcerative-colitis). Hal ini menandakan model mampu mengenali pola dengan akurat setelah proses pra-pemrosesan seperti filtering dan normalisasi yang membantu memperjelas fitur penting citra.\n",
    "\n",
    "Namun, pada data pengujian, akurasi turun menjadi 65%, yang wajar karena model menghadapi data baru dengan variasi lebih luas. Meskipun kelas normal-cecum dan polyps masih menunjukkan performa sedang (f1-score sekitar 0.63-0.65), kelas ulcerative-colitis sedikit lebih rendah (f1-score 0.67), mengindikasikan model kurang optimal mengenali variasi kelas ini di data uji. Confusion matrix menunjukkan beberapa prediksi salah yang berkontribusi pada penurunan akurasi."
   ]
  },
  {
   "cell_type": "code",
   "execution_count": null,
   "id": "5d444c2d",
   "metadata": {},
   "outputs": [
    {
     "name": "stdout",
     "output_type": "stream",
     "text": [
      "\n",
      "------Training Set------\n",
      "                    precision    recall  f1-score   support\n",
      "\n",
      "      normal-cecum       0.61      0.65      0.63        78\n",
      "            polyps       0.62      0.70      0.66        84\n",
      "ulcerative-colitis       0.82      0.65      0.73        78\n",
      "\n",
      "          accuracy                           0.67       240\n",
      "         macro avg       0.69      0.67      0.67       240\n",
      "      weighted avg       0.68      0.67      0.67       240\n",
      "\n",
      "[[51 20  7]\n",
      " [21 59  4]\n",
      " [11 16 51]]\n",
      "Accuracy: 0.6708333333333333\n",
      "\n",
      "------Testing Set------\n",
      "                    precision    recall  f1-score   support\n",
      "\n",
      "      normal-cecum       0.57      0.59      0.58        22\n",
      "            polyps       0.43      0.62      0.51        16\n",
      "ulcerative-colitis       0.86      0.55      0.67        22\n",
      "\n",
      "          accuracy                           0.58        60\n",
      "         macro avg       0.62      0.59      0.59        60\n",
      "      weighted avg       0.64      0.58      0.59        60\n",
      "\n",
      "[[13  7  2]\n",
      " [ 6 10  0]\n",
      " [ 4  6 12]]\n",
      "Accuracy: 0.5833333333333334\n"
     ]
    }
   ],
   "source": [
    "# Train SVM Classifier\n",
    "svm.fit(X_train, y_train)\n",
    "\n",
    "# Make predictions and evaluate the model with the training set\n",
    "print(\"\\n------Training Set------\")\n",
    "y_pred = svm.predict(X_train)\n",
    "generateClassificationReport( y_train, y_pred)\n",
    "\n",
    "# Make predictions and evaluate the model with the testing set\n",
    "print(\"\\n------Testing Set------\")\n",
    "y_pred = svm.predict(X_test)\n",
    "generateClassificationReport( y_test, y_pred)"
   ]
  },
  {
   "cell_type": "markdown",
   "id": "a822b7c4",
   "metadata": {},
   "source": [
    "<h2>Train SVM Classifier</h2>\n",
    "Kode di atas digunakan untuk melakukan pelatihan dan evaluasi model Support Vector Machine (SVM). Pertama, model SVM dilatih menggunakan data pelatihan melalui perintah svm.fit(X_train, y_train). Setelah pelatihan selesai, prediksi dilakukan terhadap data pelatihan dan pengujian secara terpisah menggunakan svm.predict. Hasil prediksi ini kemudian dievaluasi menggunakan fungsi generateClassificationReport yang menampilkan metrik evaluasi seperti precision, recall, f1-score, dan accuracy untuk masing-masing kelas citra: katarak, diabetic retinopathy, glaucoma, dan normal."
   ]
  },
  {
   "cell_type": "markdown",
   "id": "cfb1def4",
   "metadata": {},
   "source": [
    "<h2>Analisis Hasil Akurasi</h2>\n",
    "valuasi model menunjukkan performa sedang pada data pelatihan dengan akurasi sekitar 67%, di mana kelas ulcerative-colitis memiliki f1-score tertinggi (0.73), sedangkan kelas normal-cecum dan polyps berada di kisaran 0.63-0.66. Confusion matrix mengindikasikan masih banyak prediksi salah, terutama pada kelas normal-cecum dan polyps yang saling tertukar cukup sering.\n",
    "\n",
    "Pada data pengujian, performa menurun menjadi 58% akurasi dengan f1-score terendah pada kelas polyps (0.51), sementara ulcerative-colitis tetap relatif lebih baik (0.67). Ini mengindikasikan model kesulitan dalam menggeneralisasi terutama untuk kelas polyps dan normal-cecum di data baru. Penurunan ini kemungkinan karena model belum cukup mampu menangkap variasi fitur antar kelas, serta adanya overlapping fitur yang menyebabkan banyak salah klasifikasi."
   ]
  },
  {
   "cell_type": "code",
   "execution_count": null,
   "id": "29e30d6b",
   "metadata": {},
   "outputs": [
    {
     "name": "stdout",
     "output_type": "stream",
     "text": [
      "\n",
      "------Training Set------\n",
      "                    precision    recall  f1-score   support\n",
      "\n",
      "      normal-cecum       0.62      0.76      0.68        78\n",
      "            polyps       0.64      0.67      0.65        84\n",
      "ulcerative-colitis       0.86      0.63      0.73        78\n",
      "\n",
      "          accuracy                           0.68       240\n",
      "         macro avg       0.71      0.68      0.69       240\n",
      "      weighted avg       0.70      0.68      0.69       240\n",
      "\n",
      "[[59 16  3]\n",
      " [23 56  5]\n",
      " [13 16 49]]\n",
      "Accuracy: 0.6833333333333333\n",
      "\n",
      "------Testing Set------\n",
      "                    precision    recall  f1-score   support\n",
      "\n",
      "      normal-cecum       0.62      0.73      0.67        22\n",
      "            polyps       0.48      0.62      0.54        16\n",
      "ulcerative-colitis       0.85      0.50      0.63        22\n",
      "\n",
      "          accuracy                           0.62        60\n",
      "         macro avg       0.65      0.62      0.61        60\n",
      "      weighted avg       0.66      0.62      0.62        60\n",
      "\n",
      "[[16  4  2]\n",
      " [ 6 10  0]\n",
      " [ 4  7 11]]\n",
      "Accuracy: 0.6166666666666667\n"
     ]
    }
   ],
   "source": [
    "# Train KNN Classifier\n",
    "knn.fit(X_train, y_train)\n",
    "\n",
    "# Make predictions and evaluate the model with the training set\n",
    "print(\"\\n------Training Set------\")\n",
    "y_pred = knn.predict(X_train)\n",
    "generateClassificationReport( y_train, y_pred)\n",
    "\n",
    "# Make predictions and evaluate the model with the testing set\n",
    "print(\"\\n------Testing Set------\")\n",
    "y_pred = knn.predict(X_test)\n",
    "generateClassificationReport( y_test, y_pred)"
   ]
  },
  {
   "cell_type": "markdown",
   "id": "9a4c4db9",
   "metadata": {},
   "source": [
    "<h2>Train KKN Classifier</h2>\n",
    "Kode di atas digunakan untuk melatih dan mengevaluasi model klasifikasi K-Nearest Neighbors (KNN) dengan jumlah tetangga k = 5. Model ini dilatih menggunakan data training yang telah dinormalisasi, dan kemudian diuji pada data training dan testing untuk mengetahui seberapa baik model mengenali pola dan menggeneralisasi data baru. Fungsi generateClassificationReport digunakan untuk mencetak metrik evaluasi berupa precision, recall, f1-score, confusion matrix, dan akurasi keseluruhan."
   ]
  },
  {
   "cell_type": "markdown",
   "id": "2be3438f",
   "metadata": {},
   "source": [
    "<h2>Hasil Analisis Akurasi</h2>\n",
    "Model menunjukkan performa sedang pada data pelatihan dengan akurasi sekitar 68%. Kelas ulcerative-colitis memiliki f1-score tertinggi (0.73), diikuti normal-cecum (0.68) dan polyps (0.65). Confusion matrix menunjukkan adanya kesalahan klasifikasi terutama antara kelas normal-cecum dan polyps.\n",
    "\n",
    "Pada data pengujian, akurasi turun menjadi sekitar 62% dengan f1-score terbaik pada kelas normal-cecum (0.67) dan terendah pada polyps (0.54). Model masih mengalami kesulitan menggeneralisasi terutama untuk kelas polyps dan ulcerative-colitis yang recall-nya menurun cukup signifikan."
   ]
  },
  {
   "cell_type": "markdown",
   "id": "63f30586",
   "metadata": {},
   "source": [
    "<h1>CONFUSSION MATRIKS</h1>"
   ]
  },
  {
   "cell_type": "code",
   "execution_count": null,
   "id": "f8f71613",
   "metadata": {},
   "outputs": [
    {
     "data": {
      "image/png": "[encoded data removed]",
      "text/plain": [
       "<Figure size 640x480 with 2 Axes>"
      ]
     },
     "metadata": {},
     "output_type": "display_data"
    },
    {
     "data": {
      "image/png": "[encoded data removed]",
      "text/plain": [
       "<Figure size 640x480 with 2 Axes>"
      ]
     },
     "metadata": {},
     "output_type": "display_data"
    },
    {
     "data": {
      "image/png": "[encoded data removed]",
      "text/plain": [
       "<Figure size 640x480 with 2 Axes>"
      ]
     },
     "metadata": {},
     "output_type": "display_data"
    }
   ],
   "source": [
    "def plot_confusion_matrix(y_true, y_pred, title):\n",
    "    cm = confusion_matrix(y_true, y_pred)\n",
    "    disp = ConfusionMatrixDisplay(confusion_matrix=cm)\n",
    "    disp.plot(cmap=plt.cm.Blues)\n",
    "    plt.title(title)\n",
    "    plt.show()\n",
    "\n",
    "# Plot confusion matrix for Random Forest\n",
    "plot_confusion_matrix(y_test, rf.predict(X_test), \"Random Forest Confusion Matrix\")\n",
    "# Plot confusion matrix for SVM\n",
    "plot_confusion_matrix(y_test, svm.predict(X_test), \"SVM Confusion Matrix\")\n",
    "# Plot confusion matrix for KNN\n",
    "plot_confusion_matrix(y_test, knn.predict(X_test), \"KNN Confusion Matrix\")"
   ]
  }
 ],
 "metadata": {
  "kernelspec": {
   "display_name": "venv",
   "language": "python",
   "name": "python3"
  },
  "language_info": {
   "codemirror_mode": {
    "name": "ipython",
    "version": 3
   },
   "file_extension": ".py",
   "mimetype": "text/x-python",
   "name": "python",
   "nbconvert_exporter": "python",
   "pygments_lexer": "ipython3",
   "version": "3.13.1"
  }
 },
 "nbformat": 4,
 "nbformat_minor": 5
}
